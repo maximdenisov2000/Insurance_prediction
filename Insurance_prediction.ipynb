{
 "cells": [
  {
   "cell_type": "markdown",
   "id": "932b2a8e",
   "metadata": {},
   "source": [
    "***Датасет взят с:*** https://www.kaggle.com/datasets/simranjain17/insurance"
   ]
  },
  {
   "cell_type": "markdown",
   "id": "1b8c8f13",
   "metadata": {},
   "source": [
    "# Задание:"
   ]
  },
  {
   "cell_type": "markdown",
   "id": "bc5a604e",
   "metadata": {},
   "source": [
    "Построить оптимальную модель *RandomForestRegressor*, предсказывающую размер страховой премии по характеристикам клиента (страхователя)."
   ]
  },
  {
   "cell_type": "markdown",
   "id": "cbc2deba",
   "metadata": {},
   "source": [
    "# Импортируем необходимые библиотеки:"
   ]
  },
  {
   "cell_type": "code",
   "execution_count": 172,
   "id": "b3adf8fd",
   "metadata": {},
   "outputs": [],
   "source": [
    "import pandas as pd\n",
    "import seaborn as sns\n",
    "import numpy as np\n",
    "import matplotlib.pyplot as plt\n",
    "\n",
    "from  sklearn.model_selection import train_test_split\n",
    "from  sklearn.ensemble import RandomForestRegressor\n",
    "from  sklearn.model_selection import cross_val_score\n",
    "from  sklearn.model_selection import GridSearchCV\n",
    "\n",
    "\n",
    "\n",
    "from sklearn.metrics import mean_absolute_error as MAE\n",
    "from sklearn.metrics import mean_squared_error as MSE\n",
    "from sklearn.metrics import mean_absolute_percentage_error as MAPE\n",
    "from sklearn.model_selection import cross_val_score\n",
    "\n",
    "sns.set_theme()"
   ]
  },
  {
   "cell_type": "markdown",
   "id": "c85e294a",
   "metadata": {},
   "source": [
    "# Импортируем исходный датасет:"
   ]
  },
  {
   "cell_type": "markdown",
   "id": "2acecfc4",
   "metadata": {},
   "source": [
    "        1. Производим импорт:"
   ]
  },
  {
   "cell_type": "markdown",
   "id": "2440042a",
   "metadata": {},
   "source": [
    "*ЗНАЧЕНИЯ КОЛОНОК:*\n",
    "\n",
    "1) ***age*** - Возраст страхователя.\n",
    "\n",
    "2) ***sex*** - Пол страхователя. \n",
    "\n",
    "3) ***bmi*** - Индекс массы тела страхователя.\n",
    "\n",
    "4) ***children*** - Количество детей страхователя.\n",
    "\n",
    "5) ***smoker*** - является ли страхователь курильщиком или некурящим.\n",
    "\n",
    "6) ***region*** - Регион, к которому относится Страхователь.\n",
    "\n",
    "7) ***charges*** - Премия, взимаемая со страхователя (целевая переменная)."
   ]
  },
  {
   "cell_type": "code",
   "execution_count": 215,
   "id": "a342c1ee",
   "metadata": {},
   "outputs": [
    {
     "data": {
      "text/html": [
       "<div>\n",
       "<style scoped>\n",
       "    .dataframe tbody tr th:only-of-type {\n",
       "        vertical-align: middle;\n",
       "    }\n",
       "\n",
       "    .dataframe tbody tr th {\n",
       "        vertical-align: top;\n",
       "    }\n",
       "\n",
       "    .dataframe thead th {\n",
       "        text-align: right;\n",
       "    }\n",
       "</style>\n",
       "<table border=\"1\" class=\"dataframe\">\n",
       "  <thead>\n",
       "    <tr style=\"text-align: right;\">\n",
       "      <th></th>\n",
       "      <th>age</th>\n",
       "      <th>sex</th>\n",
       "      <th>bmi</th>\n",
       "      <th>children</th>\n",
       "      <th>smoker</th>\n",
       "      <th>region</th>\n",
       "      <th>charges</th>\n",
       "    </tr>\n",
       "  </thead>\n",
       "  <tbody>\n",
       "    <tr>\n",
       "      <th>0</th>\n",
       "      <td>19</td>\n",
       "      <td>female</td>\n",
       "      <td>27.900</td>\n",
       "      <td>0</td>\n",
       "      <td>yes</td>\n",
       "      <td>southwest</td>\n",
       "      <td>16884.92400</td>\n",
       "    </tr>\n",
       "    <tr>\n",
       "      <th>1</th>\n",
       "      <td>18</td>\n",
       "      <td>male</td>\n",
       "      <td>33.770</td>\n",
       "      <td>1</td>\n",
       "      <td>no</td>\n",
       "      <td>southeast</td>\n",
       "      <td>1725.55230</td>\n",
       "    </tr>\n",
       "    <tr>\n",
       "      <th>2</th>\n",
       "      <td>28</td>\n",
       "      <td>male</td>\n",
       "      <td>33.000</td>\n",
       "      <td>3</td>\n",
       "      <td>no</td>\n",
       "      <td>southeast</td>\n",
       "      <td>4449.46200</td>\n",
       "    </tr>\n",
       "    <tr>\n",
       "      <th>3</th>\n",
       "      <td>33</td>\n",
       "      <td>male</td>\n",
       "      <td>22.705</td>\n",
       "      <td>0</td>\n",
       "      <td>no</td>\n",
       "      <td>northwest</td>\n",
       "      <td>21984.47061</td>\n",
       "    </tr>\n",
       "    <tr>\n",
       "      <th>4</th>\n",
       "      <td>32</td>\n",
       "      <td>male</td>\n",
       "      <td>28.880</td>\n",
       "      <td>0</td>\n",
       "      <td>no</td>\n",
       "      <td>northwest</td>\n",
       "      <td>3866.85520</td>\n",
       "    </tr>\n",
       "  </tbody>\n",
       "</table>\n",
       "</div>"
      ],
      "text/plain": [
       "   age     sex     bmi  children smoker     region      charges\n",
       "0   19  female  27.900         0    yes  southwest  16884.92400\n",
       "1   18    male  33.770         1     no  southeast   1725.55230\n",
       "2   28    male  33.000         3     no  southeast   4449.46200\n",
       "3   33    male  22.705         0     no  northwest  21984.47061\n",
       "4   32    male  28.880         0     no  northwest   3866.85520"
      ]
     },
     "execution_count": 215,
     "metadata": {},
     "output_type": "execute_result"
    }
   ],
   "source": [
    "path = r\"D:\\insurance\\insurance.csv\"\n",
    "\n",
    "df = pd.read_csv(path)\n",
    "\n",
    "df.head()"
   ]
  },
  {
   "cell_type": "code",
   "execution_count": 107,
   "id": "9f12f4ce",
   "metadata": {},
   "outputs": [],
   "source": [
    "x = pd.DataFrame({\n",
    "        'age':      age_widget.value,\n",
    "        'sex':      sex_widget.value,\n",
    "        'bmi':      bmi_widget.value,\n",
    "        'children': children_widget.value,\n",
    "        'smoker':   smoker_widget.value,\n",
    "        'region':   region_widget.value\n",
    "    }, index=[0])"
   ]
  },
  {
   "cell_type": "markdown",
   "id": "1aa721f8",
   "metadata": {},
   "source": [
    "    2. Смотрим характеристики датафрейма:"
   ]
  },
  {
   "cell_type": "code",
   "execution_count": 97,
   "id": "eb9f6e00",
   "metadata": {},
   "outputs": [
    {
     "data": {
      "text/plain": [
       "(1338, 7)"
      ]
     },
     "execution_count": 97,
     "metadata": {},
     "output_type": "execute_result"
    }
   ],
   "source": [
    "# Размер:\n",
    "df.shape"
   ]
  },
  {
   "cell_type": "code",
   "execution_count": 98,
   "id": "fa7fba9e",
   "metadata": {},
   "outputs": [
    {
     "data": {
      "text/plain": [
       "age           int64\n",
       "sex          object\n",
       "bmi         float64\n",
       "children      int64\n",
       "smoker       object\n",
       "region       object\n",
       "charges     float64\n",
       "dtype: object"
      ]
     },
     "execution_count": 98,
     "metadata": {},
     "output_type": "execute_result"
    }
   ],
   "source": [
    "# Типы данных столбцов:\n",
    "df.dtypes"
   ]
  },
  {
   "cell_type": "code",
   "execution_count": 99,
   "id": "5c335bfe",
   "metadata": {},
   "outputs": [
    {
     "name": "stdout",
     "output_type": "stream",
     "text": [
      "Столбец age: 47 уник. значения\n",
      "Столбец sex: 2 уник. значения\n",
      "Столбец bmi: 548 уник. значения\n",
      "Столбец children: 6 уник. значения\n",
      "Столбец smoker: 2 уник. значения\n",
      "Столбец region: 4 уник. значения\n",
      "Столбец charges: 1337 уник. значения\n"
     ]
    }
   ],
   "source": [
    "# Кол-во уник. значений столбцов:\n",
    "for col in df.columns:\n",
    "    print(f'Столбец {col}: {df[col].nunique()} уник. значения')"
   ]
  },
  {
   "cell_type": "code",
   "execution_count": 217,
   "id": "edd6471c",
   "metadata": {},
   "outputs": [
    {
     "data": {
      "image/png": "[encoded data removed]",
      "text/plain": [
       "<Figure size 720x360 with 1 Axes>"
      ]
     },
     "metadata": {},
     "output_type": "display_data"
    }
   ],
   "source": [
    "# Распределение значений страховых премий:\n",
    "sns.displot(data=df, x='charges', aspect=2).set(xlabel='Размер страховой премии', ylabel='Кол-во клиентов')\n",
    "sns.despine()"
   ]
  },
  {
   "cell_type": "markdown",
   "id": "8e48ee1a",
   "metadata": {},
   "source": [
    "# Кодируем категориальные признаки с помощью OneHotEncoder:"
   ]
  },
  {
   "cell_type": "markdown",
   "id": "35b2fd8b",
   "metadata": {},
   "source": [
    "    1. Функция, преобразующая столбец с помощью OneHotEncoder:"
   ]
  },
  {
   "cell_type": "code",
   "execution_count": 100,
   "id": "a161d2f2",
   "metadata": {},
   "outputs": [],
   "source": [
    "def get_dummy(col, label):\n",
    "    return pd.get_dummies(df[col].apply(lambda x: label+'_'+str(x)))"
   ]
  },
  {
   "cell_type": "markdown",
   "id": "93cff181",
   "metadata": {},
   "source": [
    "    2. Каждый категориальный столбец заменим с помощью OneHotEncoder:"
   ]
  },
  {
   "cell_type": "code",
   "execution_count": 101,
   "id": "a1c4c5e6",
   "metadata": {},
   "outputs": [],
   "source": [
    "cols = ['children','smoker', 'region', 'sex']\n",
    "\n",
    "for col in cols:\n",
    "    df = pd.concat([df, get_dummy(col, col)], axis=1)\n",
    "\n",
    "df = df.drop(cols, axis=1)\n",
    "\n",
    "# Исключаем столбец sex_male, т.к. в столбце только два взаимоисключающих значения (male, female):\n",
    "df = df.drop('sex_male', axis=1)\n",
    "\n",
    "# Исключаем столбец smoker_no, т.к. в столбце только два взаимоисключающих значения (yes, no):\n",
    "df = df.drop('smoker_no', axis=1)"
   ]
  },
  {
   "cell_type": "markdown",
   "id": "5c319af3",
   "metadata": {},
   "source": [
    "# Создание модели:"
   ]
  },
  {
   "cell_type": "markdown",
   "id": "be17bf66",
   "metadata": {},
   "source": [
    "    1. Делим исходный датафрейм на зависимые и независимую переменную:"
   ]
  },
  {
   "cell_type": "code",
   "execution_count": 102,
   "id": "b14cbd60",
   "metadata": {},
   "outputs": [],
   "source": [
    "data = df.drop('charges', axis=1)\n",
    "\n",
    "target = df.charges"
   ]
  },
  {
   "cell_type": "markdown",
   "id": "51f228a6",
   "metadata": {},
   "source": [
    "    2. Визуализируем корреляцию признаков:"
   ]
  },
  {
   "cell_type": "code",
   "execution_count": 158,
   "id": "4bf646a5",
   "metadata": {},
   "outputs": [
    {
     "data": {
      "image/png": "[encoded data removed]",
      "text/plain": [
       "<Figure size 648x504 with 2 Axes>"
      ]
     },
     "metadata": {
      "needs_background": "light"
     },
     "output_type": "display_data"
    }
   ],
   "source": [
    "matrix = data.corr().applymap(lambda x: round(x,1))\n",
    "fig, ax = plt.subplots(figsize=(9,7)) \n",
    "sns.heatmap(data=matrix, annot = True, ax=ax, cmap=\"Greens\").set(title='Матрица корреляции признаков')\n",
    "sns.despine()"
   ]
  },
  {
   "cell_type": "markdown",
   "id": "e3f755ee",
   "metadata": {},
   "source": [
    "    3. Сплитуем на тренировочную и тестовую выборки:"
   ]
  },
  {
   "cell_type": "code",
   "execution_count": 105,
   "id": "ff35fbec",
   "metadata": {},
   "outputs": [],
   "source": [
    "X_train, X_test, y_train, y_test = train_test_split(data, target, random_state=1)"
   ]
  },
  {
   "cell_type": "markdown",
   "id": "c8e50d8e",
   "metadata": {},
   "source": [
    "    4. Создаем модель RandomForestRegressor (проверка на работоспособность):"
   ]
  },
  {
   "cell_type": "code",
   "execution_count": 176,
   "id": "aef3aeee",
   "metadata": {},
   "outputs": [
    {
     "name": "stdout",
     "output_type": "stream",
     "text": [
      "Wall time: 94.6 ms\n"
     ]
    }
   ],
   "source": [
    "%%time\n",
    "\n",
    "rf = RandomForestRegressor(n_jobs=-1).fit(X_train, y_train)"
   ]
  },
  {
   "cell_type": "code",
   "execution_count": 212,
   "id": "3bb653d5",
   "metadata": {},
   "outputs": [
    {
     "data": {
      "image/png": "[encoded data removed]",
      "text/plain": [
       "<Figure size 1332x360 with 1 Axes>"
      ]
     },
     "metadata": {},
     "output_type": "display_data"
    }
   ],
   "source": [
    "# Видим, что наиболее важные признаки для модели - возраст, индекс массы тела и является ли человек курильщиком:\n",
    "\n",
    "sns.catplot(data=pd.DataFrame({'feature_name':data.columns, \n",
    "                               'feature_importances':rf.feature_importances_}),\n",
    "            x='feature_name', y='feature_importances',kind=\"bar\", aspect=3.7)\\\n",
    "   .set(title='Важность признаков для модели', xlabel='Название признака', ylabel='')\n",
    "\n",
    "sns.despine()"
   ]
  },
  {
   "cell_type": "markdown",
   "id": "7ecf0ac7",
   "metadata": {},
   "source": [
    "    5. Смотрим на получающиеся метрики ошибок на тестовом наборе:"
   ]
  },
  {
   "cell_type": "code",
   "execution_count": 110,
   "id": "51045896",
   "metadata": {},
   "outputs": [
    {
     "name": "stdout",
     "output_type": "stream",
     "text": [
      "RandomForestRegressor R²:       0.86\n",
      "RandomForestRegressor RMSE:  4402.88\n",
      "RandomForestRegressor MAE:   2467.74\n",
      "RandomForestRegressor MAPE:     30.33 %\n"
     ]
    }
   ],
   "source": [
    "# Даже на оптимизированная модель показывает очень хорошие результаты:\n",
    "\n",
    "pred = rf.predict(X_test)\n",
    "print(f'RandomForestRegressor R²:       {round(rf.score(X_test, y_test),2)}')\n",
    "print(f'RandomForestRegressor RMSE:  {round(np.sqrt(MSE(y_test, pred)),2)}')\n",
    "print(f'RandomForestRegressor MAE:   {round(MAE(y_test, pred),2)}')\n",
    "print(f'RandomForestRegressor MAPE:     {round(100*MAPE(y_test, pred),2)} %')"
   ]
  },
  {
   "cell_type": "markdown",
   "id": "e90582b2",
   "metadata": {},
   "source": [
    "     6. Проводим кросс-валидацию с решётчатым поиском для выявления оптимальных параметров модели:"
   ]
  },
  {
   "cell_type": "code",
   "execution_count": 75,
   "id": "ea06d93c",
   "metadata": {},
   "outputs": [
    {
     "name": "stdout",
     "output_type": "stream",
     "text": [
      "Wall time: 14min 51s\n"
     ]
    },
    {
     "data": {
      "text/plain": [
       "GridSearchCV(cv=5, estimator=RandomForestRegressor(), n_jobs=-1,\n",
       "             param_grid={'max_depth': range(10, 30, 3),\n",
       "                         'min_samples_leaf': range(1, 8),\n",
       "                         'min_samples_split': range(2, 10, 2),\n",
       "                         'n_estimators': range(100, 1000, 100)},\n",
       "             scoring='neg_mean_absolute_percentage_error')"
      ]
     },
     "execution_count": 75,
     "metadata": {},
     "output_type": "execute_result"
    }
   ],
   "source": [
    "%%time\n",
    "\n",
    "parametrs = { 'n_estimators': range (100, 1000, 100),\n",
    "              'max_depth': range (10,30, 3),\n",
    "              'min_samples_leaf': range (1,8),\n",
    "              'min_samples_split': range (2,10,2) }\n",
    "\n",
    "rf = RandomForestRegressor()\n",
    "grid_rf = GridSearchCV(rf, parametrs, cv=5, n_jobs=-1, scoring='neg_mean_absolute_percentage_error')\n",
    "grid_rf.fit(data, target)"
   ]
  },
  {
   "cell_type": "code",
   "execution_count": 112,
   "id": "7ee65558",
   "metadata": {},
   "outputs": [
    {
     "data": {
      "text/html": [
       "<div>\n",
       "<style scoped>\n",
       "    .dataframe tbody tr th:only-of-type {\n",
       "        vertical-align: middle;\n",
       "    }\n",
       "\n",
       "    .dataframe tbody tr th {\n",
       "        vertical-align: top;\n",
       "    }\n",
       "\n",
       "    .dataframe thead th {\n",
       "        text-align: right;\n",
       "    }\n",
       "</style>\n",
       "<table border=\"1\" class=\"dataframe\">\n",
       "  <thead>\n",
       "    <tr style=\"text-align: right;\">\n",
       "      <th></th>\n",
       "      <th>mean_test_score</th>\n",
       "      <th>std_test_score</th>\n",
       "      <th>params</th>\n",
       "    </tr>\n",
       "  </thead>\n",
       "  <tbody>\n",
       "    <tr>\n",
       "      <th>963</th>\n",
       "      <td>0.279438</td>\n",
       "      <td>0.017856</td>\n",
       "      <td>{'max_depth': 19, 'min_samples_leaf': 6, 'min_...</td>\n",
       "    </tr>\n",
       "    <tr>\n",
       "      <th>747</th>\n",
       "      <td>0.279904</td>\n",
       "      <td>0.017301</td>\n",
       "      <td>{'max_depth': 16, 'min_samples_leaf': 7, 'min_...</td>\n",
       "    </tr>\n",
       "    <tr>\n",
       "      <th>244</th>\n",
       "      <td>0.280118</td>\n",
       "      <td>0.019870</td>\n",
       "      <td>{'max_depth': 10, 'min_samples_leaf': 7, 'min_...</td>\n",
       "    </tr>\n",
       "  </tbody>\n",
       "</table>\n",
       "</div>"
      ],
      "text/plain": [
       "     mean_test_score  std_test_score  \\\n",
       "963         0.279438        0.017856   \n",
       "747         0.279904        0.017301   \n",
       "244         0.280118        0.019870   \n",
       "\n",
       "                                                params  \n",
       "963  {'max_depth': 19, 'min_samples_leaf': 6, 'min_...  \n",
       "747  {'max_depth': 16, 'min_samples_leaf': 7, 'min_...  \n",
       "244  {'max_depth': 10, 'min_samples_leaf': 7, 'min_...  "
      ]
     },
     "execution_count": 112,
     "metadata": {},
     "output_type": "execute_result"
    }
   ],
   "source": [
    "# Лучше результаты кросс-валидации:\n",
    "\n",
    "cv_results = pd.DataFrame(grid_rf.cv_results_)\n",
    "cv_results['mean_test_score'] = -cv_results['mean_test_score']\n",
    "cv_results.sort_values('mean_test_score').head(3)[['mean_test_score', 'std_test_score', 'params']]"
   ]
  },
  {
   "cell_type": "markdown",
   "id": "dfce65eb",
   "metadata": {},
   "source": [
    "    7. Делаем вывод, что наиболее подходящая модель - RandomForestRegressor с параметрами:"
   ]
  },
  {
   "cell_type": "code",
   "execution_count": 113,
   "id": "c9041bd5",
   "metadata": {},
   "outputs": [
    {
     "data": {
      "text/plain": [
       "{'max_depth': 19,\n",
       " 'min_samples_leaf': 6,\n",
       " 'min_samples_split': 8,\n",
       " 'n_estimators': 100}"
      ]
     },
     "execution_count": 113,
     "metadata": {},
     "output_type": "execute_result"
    }
   ],
   "source": [
    "grid_rf.best_params_"
   ]
  },
  {
   "cell_type": "markdown",
   "id": "d6946f64",
   "metadata": {},
   "source": [
    "    8. Усреднённые метрики ошибок модели:"
   ]
  },
  {
   "cell_type": "code",
   "execution_count": 149,
   "id": "27152d2c",
   "metadata": {},
   "outputs": [
    {
     "name": "stdout",
     "output_type": "stream",
     "text": [
      "R²: 0.86\n",
      "MAE: 2496\n",
      "RMSE: 4538\n",
      "MAPE: 28.7 %\n"
     ]
    }
   ],
   "source": [
    "best_params = grid_rf.best_params_\n",
    "\n",
    "rf = RandomForestRegressor(**best_params, n_jobs=-1).fit(X_train, y_train)\n",
    "\n",
    "print(f'R²: {round(np.mean(cross_val_score(rf, data, target, scoring=\"r2\", cv=5, n_jobs=-1)),2)}')\n",
    "print(f'MAE: {(-1)*int(np.mean(cross_val_score(rf, data, target, scoring=\"neg_mean_absolute_error\", cv=5, n_jobs=-1)))}')\n",
    "print(f'RMSE: {(-1)*int(np.mean(cross_val_score(rf, data, target, scoring=\"neg_root_mean_squared_error\", cv=5, n_jobs=-1)))}')\n",
    "print(f'MAPE: {round((-100)*np.mean(cross_val_score(rf, data, target, scoring=\"neg_mean_absolute_percentage_error\",cv=5, n_jobs=-1)),1)} %')"
   ]
  },
  {
   "cell_type": "markdown",
   "id": "1d21b6ef",
   "metadata": {},
   "source": [
    "# Выводы:"
   ]
  },
  {
   "cell_type": "markdown",
   "id": "fc770308",
   "metadata": {},
   "source": [
    "1. Получена модель, имеющая усреднённые метрики ошибок:\n",
    "\n",
    "***R²***: 0.86\n",
    "\n",
    "***MAE***: 2496\n",
    "\n",
    "***RMSE***: 4538\n",
    "\n",
    "***MAPE***: 28.7 %\n",
    "\n",
    "2. Выявлено, что наиболее важными признаками для предсказания являются: возраст, индекс массы тела и является ли клиент курильщиком.\n",
    "\n",
    "\n",
    "3. Полученная модель может быть использована в боте на сайте страховой компании для автоматизации консультирования клиентов."
   ]
  }
 ],
 "metadata": {
  "kernelspec": {
   "display_name": "Python 3",
   "language": "python",
   "name": "python3"
  },
  "language_info": {
   "codemirror_mode": {
    "name": "ipython",
    "version": 3
   },
   "file_extension": ".py",
   "mimetype": "text/x-python",
   "name": "python",
   "nbconvert_exporter": "python",
   "pygments_lexer": "ipython3",
   "version": "3.8.8"
  }
 },
 "nbformat": 4,
 "nbformat_minor": 5
}
